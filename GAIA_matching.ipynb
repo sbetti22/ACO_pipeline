{
 "cells": [
  {
   "cell_type": "markdown",
   "metadata": {},
   "source": [
    "# Working with GAIA: \n",
    "\n",
    "\n",
    "\n",
    "https://sci.esa.int/gaia-stellar-family-portrait/\n",
    "\n",
    "\n"
   ]
  },
  {
   "cell_type": "code",
   "execution_count": 1,
   "metadata": {},
   "outputs": [],
   "source": [
    "from astropy.wcs import WCS\n",
    "from astropy.io import fits\n",
    "import pandas as pd\n",
    "import numpy as np\n",
    "import matplotlib.pyplot as plt\n",
    "import os\n",
    "np.set_printoptions(suppress=True)"
   ]
  },
  {
   "cell_type": "markdown",
   "metadata": {},
   "source": [
    "## Part 1 - getting the RA and Dec information for your cluster"
   ]
  },
  {
   "cell_type": "code",
   "execution_count": 2,
   "metadata": {},
   "outputs": [],
   "source": [
    "\n",
    "# data directory to your cluster\n",
    "datadir = '/Users/sarah/Downloads/20201006'\n",
    "\n",
    "\n",
    "#name of your cluster\n",
    "cluster = 'M39'\n"
   ]
  },
  {
   "cell_type": "markdown",
   "metadata": {},
   "source": [
    "Make folder called GAIA"
   ]
  },
  {
   "cell_type": "code",
   "execution_count": 3,
   "metadata": {},
   "outputs": [],
   "source": [
    "os.mkdir(datadir + '/GAIA')\n"
   ]
  },
  {
   "cell_type": "markdown",
   "metadata": {},
   "source": [
    "1. Go to http://nova.astrometry.net/upload and upload your V_stack.fit image of your cluster.  You are going to get the WCS (world coordinate system … aka the RA/DEC) of your cluster.  \n",
    "2. Download the new-image.fits and save in a new folder called GAIA.  \n",
    "\n"
   ]
  },
  {
   "cell_type": "markdown",
   "metadata": {},
   "source": [
    "## Part 2 - getting the RA and Dec positions of each of your stars. "
   ]
  },
  {
   "cell_type": "code",
   "execution_count": 9,
   "metadata": {},
   "outputs": [],
   "source": [
    "# open up your cluster photometry \n",
    "new_cluster = pd.read_csv(datadir + '/Stacked/' + cluster + '_photometry_final.csv')\n",
    "\n",
    "new_cluster['B-V'] = new_cluster['B_mcal'] - new_cluster['V_mcal']\n",
    "new_cluster['B-V_err'] = np.sqrt(new_cluster['B_mcal_err']**2. + new_cluster['V_mcal_err']**2.)\n",
    "\n",
    "# get the xcent and y center columns \n",
    "xpos = new_cluster['xcenter']\n",
    "ypos = new_cluster['ycenter']\n",
    "\n",
    "# get the magnitude and color that you want to plot\n",
    "all_mag = new_cluster['V_mcal']\n",
    "all_color = new_cluster['B-V'] \n"
   ]
  },
  {
   "cell_type": "code",
   "execution_count": 10,
   "metadata": {},
   "outputs": [
    {
     "data": {
      "text/html": [
       "<div>\n",
       "<style scoped>\n",
       "    .dataframe tbody tr th:only-of-type {\n",
       "        vertical-align: middle;\n",
       "    }\n",
       "\n",
       "    .dataframe tbody tr th {\n",
       "        vertical-align: top;\n",
       "    }\n",
       "\n",
       "    .dataframe thead th {\n",
       "        text-align: right;\n",
       "    }\n",
       "</style>\n",
       "<table border=\"1\" class=\"dataframe\">\n",
       "  <thead>\n",
       "    <tr style=\"text-align: right;\">\n",
       "      <th></th>\n",
       "      <th>Unnamed: 0</th>\n",
       "      <th>Unnamed: 0.1</th>\n",
       "      <th>id</th>\n",
       "      <th>xcenter</th>\n",
       "      <th>ycenter</th>\n",
       "      <th>Bflux</th>\n",
       "      <th>Bfluxerr</th>\n",
       "      <th>Rflux</th>\n",
       "      <th>Rfluxerr</th>\n",
       "      <th>Vflux</th>\n",
       "      <th>...</th>\n",
       "      <th>R_mcal</th>\n",
       "      <th>R_mcal_err</th>\n",
       "      <th>Vflux_1sec</th>\n",
       "      <th>Vflux_1sec_err</th>\n",
       "      <th>V_inst</th>\n",
       "      <th>Vinst_err</th>\n",
       "      <th>V_mcal</th>\n",
       "      <th>V_mcal_err</th>\n",
       "      <th>B-V</th>\n",
       "      <th>B-V_err</th>\n",
       "    </tr>\n",
       "  </thead>\n",
       "  <tbody>\n",
       "    <tr>\n",
       "      <th>0</th>\n",
       "      <td>0</td>\n",
       "      <td>0</td>\n",
       "      <td>1</td>\n",
       "      <td>20.704157</td>\n",
       "      <td>4.674488</td>\n",
       "      <td>3990.066201</td>\n",
       "      <td>155.672044</td>\n",
       "      <td>0.000000</td>\n",
       "      <td>336.673631</td>\n",
       "      <td>10669.570501</td>\n",
       "      <td>...</td>\n",
       "      <td>inf</td>\n",
       "      <td>NaN</td>\n",
       "      <td>59.275392</td>\n",
       "      <td>1.266527</td>\n",
       "      <td>-4.432186</td>\n",
       "      <td>-0.023183</td>\n",
       "      <td>14.974558</td>\n",
       "      <td>0.073768</td>\n",
       "      <td>0.820183</td>\n",
       "      <td>0.110189</td>\n",
       "    </tr>\n",
       "    <tr>\n",
       "      <th>1</th>\n",
       "      <td>1</td>\n",
       "      <td>1</td>\n",
       "      <td>2</td>\n",
       "      <td>480.362851</td>\n",
       "      <td>4.339089</td>\n",
       "      <td>5550.711419</td>\n",
       "      <td>155.188319</td>\n",
       "      <td>0.000000</td>\n",
       "      <td>333.081660</td>\n",
       "      <td>12885.475410</td>\n",
       "      <td>...</td>\n",
       "      <td>inf</td>\n",
       "      <td>NaN</td>\n",
       "      <td>71.585975</td>\n",
       "      <td>1.367539</td>\n",
       "      <td>-4.637070</td>\n",
       "      <td>-0.020727</td>\n",
       "      <td>14.769675</td>\n",
       "      <td>0.073034</td>\n",
       "      <td>0.666645</td>\n",
       "      <td>0.105651</td>\n",
       "    </tr>\n",
       "    <tr>\n",
       "      <th>2</th>\n",
       "      <td>2</td>\n",
       "      <td>2</td>\n",
       "      <td>3</td>\n",
       "      <td>4090.404658</td>\n",
       "      <td>4.623774</td>\n",
       "      <td>3605.479802</td>\n",
       "      <td>127.376687</td>\n",
       "      <td>0.000000</td>\n",
       "      <td>299.294984</td>\n",
       "      <td>9423.275032</td>\n",
       "      <td>...</td>\n",
       "      <td>inf</td>\n",
       "      <td>NaN</td>\n",
       "      <td>52.351528</td>\n",
       "      <td>1.135052</td>\n",
       "      <td>-4.297323</td>\n",
       "      <td>-0.023524</td>\n",
       "      <td>15.109421</td>\n",
       "      <td>0.073876</td>\n",
       "      <td>0.795363</td>\n",
       "      <td>0.108789</td>\n",
       "    </tr>\n",
       "    <tr>\n",
       "      <th>3</th>\n",
       "      <td>3</td>\n",
       "      <td>3</td>\n",
       "      <td>4</td>\n",
       "      <td>400.698974</td>\n",
       "      <td>6.498508</td>\n",
       "      <td>4296.096360</td>\n",
       "      <td>158.506162</td>\n",
       "      <td>0.000000</td>\n",
       "      <td>353.091487</td>\n",
       "      <td>13677.229208</td>\n",
       "      <td>...</td>\n",
       "      <td>inf</td>\n",
       "      <td>NaN</td>\n",
       "      <td>75.984607</td>\n",
       "      <td>1.419144</td>\n",
       "      <td>-4.701814</td>\n",
       "      <td>-0.020264</td>\n",
       "      <td>14.704930</td>\n",
       "      <td>0.072904</td>\n",
       "      <td>1.009576</td>\n",
       "      <td>0.108745</td>\n",
       "    </tr>\n",
       "    <tr>\n",
       "      <th>4</th>\n",
       "      <td>4</td>\n",
       "      <td>4</td>\n",
       "      <td>5</td>\n",
       "      <td>590.552173</td>\n",
       "      <td>4.210737</td>\n",
       "      <td>21299.067120</td>\n",
       "      <td>186.890565</td>\n",
       "      <td>0.000000</td>\n",
       "      <td>331.666574</td>\n",
       "      <td>120799.453605</td>\n",
       "      <td>...</td>\n",
       "      <td>inf</td>\n",
       "      <td>NaN</td>\n",
       "      <td>671.108076</td>\n",
       "      <td>2.080317</td>\n",
       "      <td>-7.066981</td>\n",
       "      <td>-0.003363</td>\n",
       "      <td>12.339763</td>\n",
       "      <td>0.070112</td>\n",
       "      <td>1.636527</td>\n",
       "      <td>0.099570</td>\n",
       "    </tr>\n",
       "    <tr>\n",
       "      <th>...</th>\n",
       "      <td>...</td>\n",
       "      <td>...</td>\n",
       "      <td>...</td>\n",
       "      <td>...</td>\n",
       "      <td>...</td>\n",
       "      <td>...</td>\n",
       "      <td>...</td>\n",
       "      <td>...</td>\n",
       "      <td>...</td>\n",
       "      <td>...</td>\n",
       "      <td>...</td>\n",
       "      <td>...</td>\n",
       "      <td>...</td>\n",
       "      <td>...</td>\n",
       "      <td>...</td>\n",
       "      <td>...</td>\n",
       "      <td>...</td>\n",
       "      <td>...</td>\n",
       "      <td>...</td>\n",
       "      <td>...</td>\n",
       "      <td>...</td>\n",
       "    </tr>\n",
       "    <tr>\n",
       "      <th>2747</th>\n",
       "      <td>2747</td>\n",
       "      <td>2747</td>\n",
       "      <td>2748</td>\n",
       "      <td>576.044496</td>\n",
       "      <td>4055.540141</td>\n",
       "      <td>2392.956457</td>\n",
       "      <td>170.008471</td>\n",
       "      <td>1934.020990</td>\n",
       "      <td>502.671782</td>\n",
       "      <td>11045.922838</td>\n",
       "      <td>...</td>\n",
       "      <td>16.624806</td>\n",
       "      <td>0.296024</td>\n",
       "      <td>61.366238</td>\n",
       "      <td>1.438495</td>\n",
       "      <td>-4.469824</td>\n",
       "      <td>-0.025434</td>\n",
       "      <td>14.936921</td>\n",
       "      <td>0.074506</td>\n",
       "      <td>1.412934</td>\n",
       "      <td>0.128067</td>\n",
       "    </tr>\n",
       "    <tr>\n",
       "      <th>2748</th>\n",
       "      <td>2748</td>\n",
       "      <td>2748</td>\n",
       "      <td>2749</td>\n",
       "      <td>4081.773752</td>\n",
       "      <td>4054.770663</td>\n",
       "      <td>1150.122661</td>\n",
       "      <td>163.155545</td>\n",
       "      <td>3384.343959</td>\n",
       "      <td>508.258058</td>\n",
       "      <td>6835.917925</td>\n",
       "      <td>...</td>\n",
       "      <td>16.017272</td>\n",
       "      <td>0.186160</td>\n",
       "      <td>37.977322</td>\n",
       "      <td>1.386099</td>\n",
       "      <td>-3.948811</td>\n",
       "      <td>-0.039600</td>\n",
       "      <td>15.457934</td>\n",
       "      <td>0.080452</td>\n",
       "      <td>1.687398</td>\n",
       "      <td>0.187272</td>\n",
       "    </tr>\n",
       "    <tr>\n",
       "      <th>2749</th>\n",
       "      <td>2749</td>\n",
       "      <td>2749</td>\n",
       "      <td>2750</td>\n",
       "      <td>4090.035129</td>\n",
       "      <td>4054.496340</td>\n",
       "      <td>2689.815684</td>\n",
       "      <td>147.168233</td>\n",
       "      <td>25073.320823</td>\n",
       "      <td>459.141465</td>\n",
       "      <td>9257.749225</td>\n",
       "      <td>...</td>\n",
       "      <td>13.842929</td>\n",
       "      <td>0.092192</td>\n",
       "      <td>51.431940</td>\n",
       "      <td>1.249011</td>\n",
       "      <td>-4.278082</td>\n",
       "      <td>-0.026349</td>\n",
       "      <td>15.128662</td>\n",
       "      <td>0.074824</td>\n",
       "      <td>1.094223</td>\n",
       "      <td>0.118451</td>\n",
       "    </tr>\n",
       "    <tr>\n",
       "      <th>2750</th>\n",
       "      <td>2750</td>\n",
       "      <td>2750</td>\n",
       "      <td>2751</td>\n",
       "      <td>3357.341640</td>\n",
       "      <td>4058.657188</td>\n",
       "      <td>7814.000385</td>\n",
       "      <td>180.011019</td>\n",
       "      <td>3176.471446</td>\n",
       "      <td>511.652139</td>\n",
       "      <td>17836.937487</td>\n",
       "      <td>...</td>\n",
       "      <td>16.086096</td>\n",
       "      <td>0.196591</td>\n",
       "      <td>99.094097</td>\n",
       "      <td>1.452382</td>\n",
       "      <td>-4.990119</td>\n",
       "      <td>-0.015902</td>\n",
       "      <td>14.416625</td>\n",
       "      <td>0.071814</td>\n",
       "      <td>0.648383</td>\n",
       "      <td>0.103392</td>\n",
       "    </tr>\n",
       "    <tr>\n",
       "      <th>2751</th>\n",
       "      <td>2751</td>\n",
       "      <td>2751</td>\n",
       "      <td>2752</td>\n",
       "      <td>3516.314058</td>\n",
       "      <td>4062.346817</td>\n",
       "      <td>2968.993575</td>\n",
       "      <td>172.697223</td>\n",
       "      <td>1942.131840</td>\n",
       "      <td>511.836471</td>\n",
       "      <td>3383.558924</td>\n",
       "      <td>...</td>\n",
       "      <td>16.620262</td>\n",
       "      <td>0.299782</td>\n",
       "      <td>18.797550</td>\n",
       "      <td>1.323448</td>\n",
       "      <td>-3.185253</td>\n",
       "      <td>-0.076390</td>\n",
       "      <td>16.221491</td>\n",
       "      <td>0.103633</td>\n",
       "      <td>-0.105823</td>\n",
       "      <td>0.140109</td>\n",
       "    </tr>\n",
       "  </tbody>\n",
       "</table>\n",
       "<p>2752 rows × 31 columns</p>\n",
       "</div>"
      ],
      "text/plain": [
       "      Unnamed: 0  Unnamed: 0.1    id      xcenter      ycenter         Bflux  \\\n",
       "0              0             0     1    20.704157     4.674488   3990.066201   \n",
       "1              1             1     2   480.362851     4.339089   5550.711419   \n",
       "2              2             2     3  4090.404658     4.623774   3605.479802   \n",
       "3              3             3     4   400.698974     6.498508   4296.096360   \n",
       "4              4             4     5   590.552173     4.210737  21299.067120   \n",
       "...          ...           ...   ...          ...          ...           ...   \n",
       "2747        2747          2747  2748   576.044496  4055.540141   2392.956457   \n",
       "2748        2748          2748  2749  4081.773752  4054.770663   1150.122661   \n",
       "2749        2749          2749  2750  4090.035129  4054.496340   2689.815684   \n",
       "2750        2750          2750  2751  3357.341640  4058.657188   7814.000385   \n",
       "2751        2751          2751  2752  3516.314058  4062.346817   2968.993575   \n",
       "\n",
       "        Bfluxerr         Rflux    Rfluxerr          Vflux  ...     R_mcal  \\\n",
       "0     155.672044      0.000000  336.673631   10669.570501  ...        inf   \n",
       "1     155.188319      0.000000  333.081660   12885.475410  ...        inf   \n",
       "2     127.376687      0.000000  299.294984    9423.275032  ...        inf   \n",
       "3     158.506162      0.000000  353.091487   13677.229208  ...        inf   \n",
       "4     186.890565      0.000000  331.666574  120799.453605  ...        inf   \n",
       "...          ...           ...         ...            ...  ...        ...   \n",
       "2747  170.008471   1934.020990  502.671782   11045.922838  ...  16.624806   \n",
       "2748  163.155545   3384.343959  508.258058    6835.917925  ...  16.017272   \n",
       "2749  147.168233  25073.320823  459.141465    9257.749225  ...  13.842929   \n",
       "2750  180.011019   3176.471446  511.652139   17836.937487  ...  16.086096   \n",
       "2751  172.697223   1942.131840  511.836471    3383.558924  ...  16.620262   \n",
       "\n",
       "      R_mcal_err  Vflux_1sec  Vflux_1sec_err    V_inst  Vinst_err     V_mcal  \\\n",
       "0            NaN   59.275392        1.266527 -4.432186  -0.023183  14.974558   \n",
       "1            NaN   71.585975        1.367539 -4.637070  -0.020727  14.769675   \n",
       "2            NaN   52.351528        1.135052 -4.297323  -0.023524  15.109421   \n",
       "3            NaN   75.984607        1.419144 -4.701814  -0.020264  14.704930   \n",
       "4            NaN  671.108076        2.080317 -7.066981  -0.003363  12.339763   \n",
       "...          ...         ...             ...       ...        ...        ...   \n",
       "2747    0.296024   61.366238        1.438495 -4.469824  -0.025434  14.936921   \n",
       "2748    0.186160   37.977322        1.386099 -3.948811  -0.039600  15.457934   \n",
       "2749    0.092192   51.431940        1.249011 -4.278082  -0.026349  15.128662   \n",
       "2750    0.196591   99.094097        1.452382 -4.990119  -0.015902  14.416625   \n",
       "2751    0.299782   18.797550        1.323448 -3.185253  -0.076390  16.221491   \n",
       "\n",
       "      V_mcal_err       B-V   B-V_err  \n",
       "0       0.073768  0.820183  0.110189  \n",
       "1       0.073034  0.666645  0.105651  \n",
       "2       0.073876  0.795363  0.108789  \n",
       "3       0.072904  1.009576  0.108745  \n",
       "4       0.070112  1.636527  0.099570  \n",
       "...          ...       ...       ...  \n",
       "2747    0.074506  1.412934  0.128067  \n",
       "2748    0.080452  1.687398  0.187272  \n",
       "2749    0.074824  1.094223  0.118451  \n",
       "2750    0.071814  0.648383  0.103392  \n",
       "2751    0.103633 -0.105823  0.140109  \n",
       "\n",
       "[2752 rows x 31 columns]"
      ]
     },
     "execution_count": 10,
     "metadata": {},
     "output_type": "execute_result"
    }
   ],
   "source": [
    "new_cluster"
   ]
  },
  {
   "cell_type": "code",
   "execution_count": 12,
   "metadata": {},
   "outputs": [],
   "source": [
    "# get the RA/DEC info for your stacked image.\n",
    "wcs = WCS(fits.getheader(datadir + '/GAIA/' + cluster + '_Vstack_WCS.fits'))"
   ]
  },
  {
   "cell_type": "code",
   "execution_count": 14,
   "metadata": {},
   "outputs": [],
   "source": [
    "#convert your x position and y position of your clusters to RA/DEC\n",
    "ra,dec = wcs.all_pix2world(xpos,ypos,0)\n",
    "\n",
    "# save to a text file\n",
    "np.savetxt(datadir + '/GAIA/' + cluster + '_radec.txt', np.c_[np.array(ra),np.array(dec)], fmt='%1.9f')\n",
    "\n"
   ]
  },
  {
   "cell_type": "markdown",
   "metadata": {},
   "source": [
    "## Part 3 - find the corresponding stars in the GAIA catalogue. \n",
    "\n",
    "We are going to use a database called VizieR, which stores catalogues for most of the data published in astronomy.  \n",
    "\n",
    "1. Go to: http://vizier.u-strasbg.fr/viz-bin/VizieR\n",
    "2. In the box below *Find catalogs among 18753 available* type: Gaia DR2\n",
    "3. Click enter.\n",
    "4. Select the row: **I/345** GAIA DR2 (Gaia Collaboration, 2018)\n",
    "5. Click Query selected tables\n",
    "6. Click the first link: **I/345/gaia2**\n",
    "7. At the top of the page, click “List of Targets”\n",
    "8. Click on “Choose File” and upload your file you made in step 5. \n",
    "9. Select “single file”.  Change target dimension to **1 arcsec**\n",
    "10. Only select the following columns: **Plx, e_Plx, pmRA, e_pmRA, pmDE, e_pmDE**\n",
    "11. Under “Preferences” on the left side, under max— select “unlimited” \n",
    "12. Click submit.  A .tsv file will be saved.  \n",
    "13. Open the .tsv file in google sheets/ EXCEL.\n",
    "14. Delete first 42 rows, the row with all - - - - - and the row with the units.\n",
    "15. Save excel sheet as a .csv file.\n",
    "\n"
   ]
  },
  {
   "cell_type": "markdown",
   "metadata": {},
   "source": [
    "## Part 4 - read in your GAIA data\n",
    "\n",
    "Part 3 found the matching stars to all the stars you found.  Now we are going sort through them and find the ones with similar distances and motions.  These will be our cluster. "
   ]
  },
  {
   "cell_type": "code",
   "execution_count": 86,
   "metadata": {},
   "outputs": [],
   "source": [
    "# read in your GAIA data. \n",
    "GAIA = pd.read_csv(datadir + '/GAIA/' + cluster + '_gaia.csv',delimiter=';', comment='#')"
   ]
  },
  {
   "cell_type": "code",
   "execution_count": 87,
   "metadata": {},
   "outputs": [
    {
     "data": {
      "text/html": [
       "<div>\n",
       "<style scoped>\n",
       "    .dataframe tbody tr th:only-of-type {\n",
       "        vertical-align: middle;\n",
       "    }\n",
       "\n",
       "    .dataframe tbody tr th {\n",
       "        vertical-align: top;\n",
       "    }\n",
       "\n",
       "    .dataframe thead th {\n",
       "        text-align: right;\n",
       "    }\n",
       "</style>\n",
       "<table border=\"1\" class=\"dataframe\">\n",
       "  <thead>\n",
       "    <tr style=\"text-align: right;\">\n",
       "      <th></th>\n",
       "      <th>_r</th>\n",
       "      <th>_RAJ2000</th>\n",
       "      <th>_DEJ2000</th>\n",
       "      <th>RA_ICRS</th>\n",
       "      <th>e_RA_ICRS</th>\n",
       "      <th>DE_ICRS</th>\n",
       "      <th>e_DE_ICRS</th>\n",
       "      <th>Source</th>\n",
       "      <th>Plx</th>\n",
       "      <th>e_Plx</th>\n",
       "      <th>pmRA</th>\n",
       "      <th>e_pmRA</th>\n",
       "      <th>pmDE</th>\n",
       "      <th>e_pmDE</th>\n",
       "    </tr>\n",
       "  </thead>\n",
       "  <tbody>\n",
       "    <tr>\n",
       "      <th>0</th>\n",
       "      <td>0.782</td>\n",
       "      <td>322.967005</td>\n",
       "      <td>48.066519</td>\n",
       "      <td>322.966978</td>\n",
       "      <td>0.0195</td>\n",
       "      <td>48.066494</td>\n",
       "      <td>0.0177</td>\n",
       "      <td>1978346259653264000</td>\n",
       "      <td>0.2530</td>\n",
       "      <td>0.0219</td>\n",
       "      <td>-4.251</td>\n",
       "      <td>0.041</td>\n",
       "      <td>-5.833</td>\n",
       "      <td>0.032</td>\n",
       "    </tr>\n",
       "    <tr>\n",
       "      <th>1</th>\n",
       "      <td>0.730</td>\n",
       "      <td>322.817998</td>\n",
       "      <td>48.060196</td>\n",
       "      <td>322.817999</td>\n",
       "      <td>0.0248</td>\n",
       "      <td>48.060175</td>\n",
       "      <td>0.0243</td>\n",
       "      <td>1978533241040500096</td>\n",
       "      <td>2.0284</td>\n",
       "      <td>0.0293</td>\n",
       "      <td>0.139</td>\n",
       "      <td>0.052</td>\n",
       "      <td>-4.725</td>\n",
       "      <td>0.051</td>\n",
       "    </tr>\n",
       "    <tr>\n",
       "      <th>2</th>\n",
       "      <td>0.827</td>\n",
       "      <td>322.826110</td>\n",
       "      <td>48.061091</td>\n",
       "      <td>322.826091</td>\n",
       "      <td>0.0232</td>\n",
       "      <td>48.061068</td>\n",
       "      <td>0.0220</td>\n",
       "      <td>1978533245349855616</td>\n",
       "      <td>0.4944</td>\n",
       "      <td>0.0271</td>\n",
       "      <td>-2.925</td>\n",
       "      <td>0.049</td>\n",
       "      <td>-5.212</td>\n",
       "      <td>0.045</td>\n",
       "    </tr>\n",
       "    <tr>\n",
       "      <th>3</th>\n",
       "      <td>0.675</td>\n",
       "      <td>322.884193</td>\n",
       "      <td>48.064619</td>\n",
       "      <td>322.884185</td>\n",
       "      <td>0.0255</td>\n",
       "      <td>48.064607</td>\n",
       "      <td>0.0242</td>\n",
       "      <td>1978532592514836480</td>\n",
       "      <td>0.4478</td>\n",
       "      <td>0.0305</td>\n",
       "      <td>-1.210</td>\n",
       "      <td>0.055</td>\n",
       "      <td>-2.746</td>\n",
       "      <td>0.048</td>\n",
       "    </tr>\n",
       "    <tr>\n",
       "      <th>4</th>\n",
       "      <td>0.462</td>\n",
       "      <td>322.864705</td>\n",
       "      <td>48.064934</td>\n",
       "      <td>322.864687</td>\n",
       "      <td>0.0325</td>\n",
       "      <td>48.064921</td>\n",
       "      <td>0.0316</td>\n",
       "      <td>1978532626874569984</td>\n",
       "      <td>0.3870</td>\n",
       "      <td>0.0397</td>\n",
       "      <td>-2.671</td>\n",
       "      <td>0.071</td>\n",
       "      <td>-3.031</td>\n",
       "      <td>0.066</td>\n",
       "    </tr>\n",
       "  </tbody>\n",
       "</table>\n",
       "</div>"
      ],
      "text/plain": [
       "      _r    _RAJ2000   _DEJ2000     RA_ICRS  e_RA_ICRS    DE_ICRS  e_DE_ICRS  \\\n",
       "0  0.782  322.967005  48.066519  322.966978     0.0195  48.066494     0.0177   \n",
       "1  0.730  322.817998  48.060196  322.817999     0.0248  48.060175     0.0243   \n",
       "2  0.827  322.826110  48.061091  322.826091     0.0232  48.061068     0.0220   \n",
       "3  0.675  322.884193  48.064619  322.884185     0.0255  48.064607     0.0242   \n",
       "4  0.462  322.864705  48.064934  322.864687     0.0325  48.064921     0.0316   \n",
       "\n",
       "                Source         Plx    e_Plx       pmRA  e_pmRA       pmDE  \\\n",
       "0  1978346259653264000      0.2530   0.0219     -4.251   0.041     -5.833   \n",
       "1  1978533241040500096      2.0284   0.0293      0.139   0.052     -4.725   \n",
       "2  1978533245349855616      0.4944   0.0271     -2.925   0.049     -5.212   \n",
       "3  1978532592514836480      0.4478   0.0305     -1.210   0.055     -2.746   \n",
       "4  1978532626874569984      0.3870   0.0397     -2.671   0.071     -3.031   \n",
       "\n",
       "   e_pmDE  \n",
       "0   0.032  \n",
       "1   0.051  \n",
       "2   0.045  \n",
       "3   0.048  \n",
       "4   0.066  "
      ]
     },
     "execution_count": 87,
     "metadata": {},
     "output_type": "execute_result"
    }
   ],
   "source": [
    "GAIA.head()"
   ]
  },
  {
   "cell_type": "code",
   "execution_count": 88,
   "metadata": {},
   "outputs": [],
   "source": [
    "GAIA['Plx'] = pd.to_numeric(GAIA['Plx'],errors='coerce')"
   ]
  },
  {
   "cell_type": "markdown",
   "metadata": {},
   "source": [
    "## Part 5 - constrain objects by distance and proper motion\n",
    "\n",
    "### Using the histograms, constrain the distance "
   ]
  },
  {
   "cell_type": "code",
   "execution_count": 89,
   "metadata": {},
   "outputs": [
    {
     "name": "stderr",
     "output_type": "stream",
     "text": [
      "/Users/sarah/opt/anaconda3/lib/python3.7/site-packages/numpy/lib/histograms.py:839: RuntimeWarning: invalid value encountered in greater_equal\n",
      "  keep = (tmp_a >= first_edge)\n",
      "/Users/sarah/opt/anaconda3/lib/python3.7/site-packages/numpy/lib/histograms.py:840: RuntimeWarning: invalid value encountered in less_equal\n",
      "  keep &= (tmp_a <= last_edge)\n"
     ]
    },
    {
     "data": {
      "image/png": "[encoded data removed]",
      "text/plain": [
       "<Figure size 432x288 with 1 Axes>"
      ]
     },
     "metadata": {
      "needs_background": "light"
     },
     "output_type": "display_data"
    }
   ],
   "source": [
    "# find the distances to all stars from gaia using the parallax column in GAIA. \n",
    "# REMEMBER: distance = 1/parallax\n",
    "distance  = 1000. / GAIA['Plx']\n",
    "\n",
    "\n",
    "# plot a histogram of the distances of all the stars.\n",
    "plt.figure()\n",
    "plt.hist(distance.values, bins=20)\n",
    "plt.show()\n"
   ]
  },
  {
   "cell_type": "code",
   "execution_count": 91,
   "metadata": {},
   "outputs": [
    {
     "name": "stdout",
     "output_type": "stream",
     "text": [
      "47\n"
     ]
    },
    {
     "data": {
      "image/png": "[encoded data removed]",
      "text/plain": [
       "<Figure size 432x288 with 1 Axes>"
      ]
     },
     "metadata": {
      "needs_background": "light"
     },
     "output_type": "display_data"
    }
   ],
   "source": [
    "#constrain your distances.\n",
    "ind = np.where((distance > 0) & (distance < 400))\n",
    "# plot a histogram\n",
    "plt.figure()\n",
    "plt.hist(distance.values[ind], bins=20)\n",
    "plt.show()"
   ]
  },
  {
   "cell_type": "markdown",
   "metadata": {},
   "source": [
    "What range of distances does your cluster coorespond to?\n",
    "\n",
    "Now, let's find all the stars with a similar motion within those distances."
   ]
  },
  {
   "cell_type": "code",
   "execution_count": 92,
   "metadata": {},
   "outputs": [],
   "source": [
    "# Put the range of distances of objects in your cluster. \n",
    "min_dist = 200\n",
    "max_dist = 400\n"
   ]
  },
  {
   "cell_type": "markdown",
   "metadata": {},
   "source": [
    "### Constrain by Proper Motion"
   ]
  },
  {
   "cell_type": "code",
   "execution_count": 93,
   "metadata": {},
   "outputs": [],
   "source": [
    "GAIA['pmRA'] = pd.to_numeric(GAIA['pmRA'],errors='coerce')\n",
    "GAIA['pmDE'] = pd.to_numeric(GAIA['pmDE'],errors='coerce')"
   ]
  },
  {
   "cell_type": "markdown",
   "metadata": {},
   "source": [
    "Constrain the proper motion by changing the min and max PM values"
   ]
  },
  {
   "cell_type": "code",
   "execution_count": 94,
   "metadata": {},
   "outputs": [
    {
     "data": {
      "image/png": "[encoded data removed]",
      "text/plain": [
       "<Figure size 432x288 with 1 Axes>"
      ]
     },
     "metadata": {
      "needs_background": "light"
     },
     "output_type": "display_data"
    }
   ],
   "source": [
    "plt.figure()\n",
    "\n",
    "pmRA = GAIA['pmRA'].loc[(distance < max_dist) & (distance > min_dist)]\n",
    "pmDEC = GAIA['pmDE'].loc[(distance < max_dist) & (distance > min_dist)]\n",
    "plt.plot(pmRA, pmDEC, 'ro')\n",
    "\n",
    "\n",
    "# CHANGE Limits and select data points\n",
    "# Change the limits to find the clump of stars with similar proper motions.\n",
    "\n",
    "min_pmRA = -7.8\n",
    "max_pmRA = -7\n",
    "\n",
    "min_pmDEC =-21\n",
    "max_pmDEC = -18\n",
    "\n",
    "\n",
    "pmRA_2 = pmRA.loc[(pmRA > min_pmRA) & (pmRA < max_pmRA) &(pmDEC > min_pmDec) & (pmDEC < max_pmDEC)]\n",
    "pmDEC_2 = pmDEC.loc[(pmRA > min_pmRA) & (pmRA < max_pmRA) &(pmDEC > min_pmDec) & (pmDEC < max_pmDEC)]\n",
    "plt.plot(pmRA_2, pmDEC_2, 'bo')\n",
    "\n",
    "plt.xlim(-10,-5)\n",
    "plt.ylim(-22, -10)\n",
    "\n",
    "\n",
    "plt.show()\n",
    "\n",
    "\n",
    "# -7.3569 -19.5993\n",
    "\n"
   ]
  },
  {
   "cell_type": "markdown",
   "metadata": {},
   "source": [
    "# Part 6 - Find cluster stars in your image by matching stars between your catalogue and gaia. "
   ]
  },
  {
   "cell_type": "code",
   "execution_count": 96,
   "metadata": {},
   "outputs": [],
   "source": [
    "GAIA['_RAJ2000'] = pd.to_numeric(GAIA['_RAJ2000'],errors='coerce')\n",
    "GAIA['_DEJ2000'] = pd.to_numeric(GAIA['_DEJ2000'],errors='coerce')"
   ]
  },
  {
   "cell_type": "code",
   "execution_count": 103,
   "metadata": {},
   "outputs": [
    {
     "name": "stdout",
     "output_type": "stream",
     "text": [
      "number of cluster members found: 12\n"
     ]
    }
   ],
   "source": [
    "\n",
    "# We want to match stars from the gaia catalogue to our catalogue within one arcsecond. \n",
    "tol = 1./3600.\n",
    "ngood=0\n",
    "\n",
    "# Save the magnitude and color of the cluster stars! \n",
    "cluster_mag = []\n",
    "cluster_color = []\n",
    "\n",
    "# go through all the stars in the gaia catalogue\n",
    "for src in range(0,len(GAIA['_RAJ2000'])):\n",
    "\n",
    "    # calculate the distance between each star in the gaia catalogue and each star in your catalogue. \n",
    "    dist = ( (np.cos(GAIA['_DEJ2000'][src]*np.pi/180.)*(GAIA['_RAJ2000'][src] - ra))**2.0 + \\\n",
    "                (GAIA['_DEJ2000'][src] - dec)**2.0 )**0.5  \n",
    "    \n",
    "    # find the stars in your catalogue that are closest to each star in gaia. \n",
    "    x = np.where(dist==np.min(dist))[0]#[0]\n",
    "\n",
    "    # if the clostest stars from GAIA and your catalogue are within 1\":  \n",
    "    if np.min(dist) <= tol:\n",
    "        \n",
    "        # determine if the stars have the distance range you found above. \n",
    "        if ((1000./GAIA['Plx'][src] > min_dist ) & (1000./GAIA['Plx'][src] < max_dist) & \n",
    "            (GAIA['pmRA'][src] > min_pmRA) & (GAIA['pmRA'][src] < max_pmRA) &  \n",
    "            (GAIA['pmDE'][src] > min_pmDEC) & (GAIA['pmDE'][src] < max_pmDEC)):\n",
    "                    \n",
    "                ngood += 1\n",
    "                cluster_mag.append(all_mag.values[x][0])\n",
    "                cluster_color.append(all_color.values[x][0])\n",
    "                    \n",
    "print('number of cluster members found:', len(np.unique(cluster_color)))                 "
   ]
  },
  {
   "cell_type": "markdown",
   "metadata": {},
   "source": [
    "# Part 7 - Plot"
   ]
  },
  {
   "cell_type": "code",
   "execution_count": 104,
   "metadata": {},
   "outputs": [
    {
     "data": {
      "image/png": "[encoded data removed]",
      "text/plain": [
       "<Figure size 432x432 with 1 Axes>"
      ]
     },
     "metadata": {
      "needs_background": "light"
     },
     "output_type": "display_data"
    }
   ],
   "source": [
    "# plot the gaia selected cluster members (cluster_X) and all stars (all_X) CMD in your field. \n",
    "\n",
    "yerr = new_cluster['V_mcal_err']\n",
    "xerr = new_cluster['B-V_err']\n",
    "\n",
    "plt.figure(figsize=(6,6))\n",
    "#plot the original CMD\n",
    "plt.errorbar(all_color, all_mag, yerr = yerr,xerr=xerr,\n",
    "             color='k', fmt='.', label='all stars', ecolor='gray',alpha=0.3)\n",
    "\n",
    "#plot the gaia selected members CMD as red.\n",
    "plt.plot(cluster_color, cluster_mag, 'r.', label='GAIA cluster members', zorder=5, markersize=8)\n",
    "\n",
    "plt.gca().invert_yaxis()\n",
    "plt.legend()\n",
    "plt.xlabel('(B-V) [mag]', fontsize=14)\n",
    "plt.ylabel('V [mag]', fontsize=14)\n",
    "plt.tick_params(which='both', direction='in', top=True, right=True)\n",
    "plt.minorticks_on()\n",
    "plt.ylim(18, 4)\n",
    "plt.xlim(-1, 2.5)\n",
    "plt.title(cluster, fontsize=16)\n",
    "plt.savefig(datadir + '/GAIA/' + cluster + '_CMD.png', dpi=150)\n",
    "plt.show()"
   ]
  },
  {
   "cell_type": "code",
   "execution_count": null,
   "metadata": {},
   "outputs": [],
   "source": []
  }
 ],
 "metadata": {
  "kernelspec": {
   "display_name": "Python 3",
   "language": "python",
   "name": "python3"
  },
  "language_info": {
   "codemirror_mode": {
    "name": "ipython",
    "version": 3
   },
   "file_extension": ".py",
   "mimetype": "text/x-python",
   "name": "python",
   "nbconvert_exporter": "python",
   "pygments_lexer": "ipython3",
   "version": "3.7.6"
  }
 },
 "nbformat": 4,
 "nbformat_minor": 2
}
